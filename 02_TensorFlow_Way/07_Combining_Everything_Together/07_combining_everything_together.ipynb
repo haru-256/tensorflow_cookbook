{
 "cells": [
  {
   "cell_type": "markdown",
   "metadata": {},
   "source": [
    "# Combining Everything Together\n",
    "\n",
    "This file will perform binary classification on the iris dataset. We will only predict if a flower is I.setosa or not. \n",
    "\n",
    "We will create a simple binary classifier by creating a line and running everything through a sigmoid to get a binary predictor. The two features we will use are pedal length and pedal width.  We use these two features because we know that Iris setosa is separable by these two features.  We aim to find the line that separates it out.\n",
    "\n",
    "We will use batch training, but this can be easily adapted to stochastic training (i.e. set batch size equal to 1).\n",
    "\n",
    "We start by loading the necessary libraries and resetting the computational graph."
   ]
  },
  {
   "cell_type": "code",
   "execution_count": 1,
   "metadata": {},
   "outputs": [],
   "source": [
    "import matplotlib.pyplot as plt\n",
    "import numpy as np\n",
    "from sklearn import datasets\n",
    "import tensorflow as tf\n",
    "# from tensorflow.python.framework import ops\n",
    "tf.reset_default_graph()"
   ]
  },
  {
   "cell_type": "markdown",
   "metadata": {},
   "source": [
    "### Load Iris Data\n",
    "\n",
    "We load the data and mark the target if it is I. setosa or not.  The input data will be the 3rd and 4th features of the data set. (Petal Length and Petal Width)."
   ]
  },
  {
   "cell_type": "code",
   "execution_count": 10,
   "metadata": {},
   "outputs": [
    {
     "name": "stdout",
     "output_type": "stream",
     "text": [
      "['sepal length (cm)', 'sepal width (cm)', 'petal length (cm)', 'petal width (cm)']\n",
      "['setosa' 'versicolor' 'virginica']\n"
     ]
    }
   ],
   "source": [
    "# Load the iris data\n",
    "# iris.target = {0, 1, 2}, where '0' is setosa\n",
    "# iris.data ~ [sepal.width, sepal.length, pedal.width, pedal.length]\n",
    "iris = datasets.load_iris()\n",
    "print(iris.feature_names)\n",
    "print(iris.target_names)"
   ]
  },
  {
   "cell_type": "code",
   "execution_count": 13,
   "metadata": {},
   "outputs": [
    {
     "data": {
      "text/plain": [
       "dict_keys(['data', 'target', 'target_names', 'DESCR', 'feature_names'])"
      ]
     },
     "execution_count": 13,
     "metadata": {},
     "output_type": "execute_result"
    }
   ],
   "source": [
    "iris.keys()"
   ]
  },
  {
   "cell_type": "code",
   "execution_count": 25,
   "metadata": {},
   "outputs": [],
   "source": [
    "binary_target = np.array([1. if x==0 else 0. for x in iris.target])\n",
    "iris_2d = np.array([[x[2], x[3]] for x in iris.data])"
   ]
  },
  {
   "cell_type": "markdown",
   "metadata": {},
   "source": [
    "We set the batch size to 20."
   ]
  },
  {
   "cell_type": "code",
   "execution_count": 26,
   "metadata": {},
   "outputs": [],
   "source": [
    "batch_size = 20"
   ]
  },
  {
   "cell_type": "markdown",
   "metadata": {},
   "source": [
    "Then we start a computational graph session."
   ]
  },
  {
   "cell_type": "code",
   "execution_count": 27,
   "metadata": {},
   "outputs": [],
   "source": [
    "# Create graph\n",
    "sess = tf.Session()"
   ]
  },
  {
   "cell_type": "markdown",
   "metadata": {},
   "source": [
    "### Placeholders\n",
    "\n",
    "We declare the placeholders for the model.  Just to illustrate that we can feed in multiple x-features separately, we create two separate placeholders for the two Iris features."
   ]
  },
  {
   "cell_type": "code",
   "execution_count": 28,
   "metadata": {},
   "outputs": [],
   "source": [
    "# Declare placeholders\n",
    "x1_data = tf.placeholder(shape=[None, 1], dtype=tf.float32)\n",
    "x2_data = tf.placeholder(shape=[None, 1], dtype=tf.float32)\n",
    "y_target = tf.placeholder(shape=[None, 1], dtype=tf.float32)"
   ]
  },
  {
   "cell_type": "markdown",
   "metadata": {},
   "source": [
    "### Model Variables\n",
    "\n",
    "We are going to be doing a linear model, so we will need to create two variables, `A` (slope) and `b` (intercept)."
   ]
  },
  {
   "cell_type": "code",
   "execution_count": 29,
   "metadata": {},
   "outputs": [],
   "source": [
    "# Create variables A and b\n",
    "A = tf.Variable(tf.random_normal(shape=[1, 1]))\n",
    "b = tf.Variable(tf.random_normal(shape=[1, 1]))"
   ]
  },
  {
   "cell_type": "markdown",
   "metadata": {},
   "source": [
    "### Model Operations\n",
    "\n",
    "A line can be defined as $x_{1}=A\\cdot x_{2} + b$. To create a linear separator, we would like to see which side of the line the data points fall. There are three cases:\n",
    "\n",
    "- A point exactly on the line will satisfy: $0 = x_{1} - (A\\cdot x_{2} + b)$\n",
    "- A point above the line satisfies: $0 > x_{1} - (A\\cdot x_{2} + b)$\n",
    "- A point below the line satisfies: $0 < x_{1} - (A\\cdot x_{2} + b)$\n",
    "\n",
    "We will make the output of this model:\n",
    "\n",
    "$$x_{1} - (A \\cdot x_{2} + b)$$\n",
    "\n",
    "Then the predictions will be the sign of that output:\n",
    "\n",
    "$$Prediction(x_{1},x_{2}) = \\sigma\\big(x_{1} - (A \\cdot x_{2} + b)\\big)$$\n",
    "\n",
    "So we add the corresponding operations to the computational graph."
   ]
  },
  {
   "cell_type": "code",
   "execution_count": 31,
   "metadata": {},
   "outputs": [],
   "source": [
    "# Add model to graph:\n",
    "# x1 - A*x2 + b\n",
    "my_mult = tf.matmul(x2_data, A)\n",
    "my_add = tf.add(my_mult, b)\n",
    "my_output = tf.subtract(x1_data, my_add)"
   ]
  },
  {
   "cell_type": "markdown",
   "metadata": {},
   "source": [
    "### Loss Function\n",
    "\n",
    "Since we are doing a categorical prediction (I.setosa or not), we will use the sigmoid cross entropy loss.  This is a function provided to us by TensorFlow."
   ]
  },
  {
   "cell_type": "code",
   "execution_count": 32,
   "metadata": {},
   "outputs": [],
   "source": [
    "# Add classification loss (cross entropy)\n",
    "# xentropy = tf.nn.sigmoid_cross_entropy_with_logits(my_output, y_target)\n",
    "xentropy = tf.losses.sigmoid_cross_entropy(\n",
    "    multi_class_labels=y_target, logits=my_output)"
   ]
  },
  {
   "cell_type": "markdown",
   "metadata": {},
   "source": [
    "### Optimizing Function and Variable Initialization\n",
    "\n",
    "We use the standard Gradient Descent Optimization function with a learning rate of `0.05`.  We then add and run a variable initialization operation."
   ]
  },
  {
   "cell_type": "code",
   "execution_count": 33,
   "metadata": {},
   "outputs": [],
   "source": [
    "# Create Optimizer\n",
    "my_opt = tf.train.GradientDescentOptimizer(0.05)\n",
    "train_step = my_opt.minimize(xentropy)\n",
    "\n",
    "# Initialize variables\n",
    "init = tf.global_variables_initializer()\n",
    "sess.run(init)"
   ]
  },
  {
   "cell_type": "markdown",
   "metadata": {},
   "source": [
    "### Run Classification\n",
    "\n",
    "We run the classification for 1000 iterations and output the values of `A`, `b`, and loss every 200 iterations."
   ]
  },
  {
   "cell_type": "code",
   "execution_count": 42,
   "metadata": {},
   "outputs": [
    {
     "name": "stdout",
     "output_type": "stream",
     "text": [
      "Step #200 A = [[9.182404]], b = [[-3.9508848]]\n",
      "Step #400 A = [[9.2713375]], b = [[-4.010417]]\n",
      "Step #600 A = [[9.359544]], b = [[-4.060736]]\n",
      "Step #800 A = [[9.448436]], b = [[-4.1089907]]\n",
      "Step #1000 A = [[9.527911]], b = [[-4.157014]]\n",
      "Step #1200 A = [[9.587382]], b = [[-4.232043]]\n",
      "Step #1400 A = [[9.650425]], b = [[-4.30085]]\n",
      "Step #1600 A = [[9.733923]], b = [[-4.3334103]]\n",
      "Step #1800 A = [[9.79653]], b = [[-4.389105]]\n",
      "Step #2000 A = [[9.856653]], b = [[-4.444657]]\n",
      "Step #2200 A = [[9.919484]], b = [[-4.4949474]]\n",
      "Step #2400 A = [[9.98572]], b = [[-4.5391235]]\n",
      "Step #2600 A = [[10.052338]], b = [[-4.5742955]]\n",
      "Step #2800 A = [[10.111094]], b = [[-4.6201277]]\n",
      "Step #3000 A = [[10.167503]], b = [[-4.6680803]]\n",
      "Step #3200 A = [[10.230378]], b = [[-4.7012367]]\n",
      "Step #3400 A = [[10.280857]], b = [[-4.75267]]\n",
      "Step #3600 A = [[10.34248]], b = [[-4.7881823]]\n",
      "Step #3800 A = [[10.388244]], b = [[-4.8380065]]\n",
      "Step #4000 A = [[10.439187]], b = [[-4.882845]]\n",
      "Step #4200 A = [[10.491363]], b = [[-4.9171515]]\n",
      "Step #4400 A = [[10.542665]], b = [[-4.954582]]\n",
      "Step #4600 A = [[10.592683]], b = [[-4.9915996]]\n",
      "Step #4800 A = [[10.650036]], b = [[-5.0185466]]\n",
      "Step #5000 A = [[10.699328]], b = [[-5.051866]]\n"
     ]
    }
   ],
   "source": [
    "# Run Loop\n",
    "for i in range(5000):\n",
    "    rand_index = np.random.choice(len(iris_2d), size=batch_size)\n",
    "    #rand_x = np.transpose([iris_2d[rand_index]])\n",
    "    rand_x = iris_2d[rand_index]\n",
    "    rand_x1 = np.array([[x[0]] for x in rand_x])  # shape=(batch_size, 1)\n",
    "    rand_x2 = np.array([[x[1]] for x in rand_x])\n",
    "    #rand_y = np.transpose([binary_target[rand_index]])\n",
    "    rand_y = np.array(\n",
    "        [[y] for y in binary_target[rand_index]])  # shape=(batch_size, 1)\n",
    "    sess.run(\n",
    "        train_step,\n",
    "        feed_dict={\n",
    "            x1_data: rand_x1,\n",
    "            x2_data: rand_x2,\n",
    "            y_target: rand_y\n",
    "        })\n",
    "    if (i + 1) % 200 == 0:\n",
    "        print('Step #' + str(i + 1) + ' A = ' + str(sess.run(A)) + ', b = ' +\n",
    "              str(sess.run(b)))"
   ]
  },
  {
   "cell_type": "markdown",
   "metadata": {},
   "source": [
    "### Visualize Results\n",
    "\n",
    "We pull out the slope and intercept and plot the predictions"
   ]
  },
  {
   "cell_type": "code",
   "execution_count": 57,
   "metadata": {},
   "outputs": [
    {
     "data": {
      "image/png": "[encoded data removed]",
      "text/plain": [
       "<matplotlib.figure.Figure at 0x11e81ca20>"
      ]
     },
     "metadata": {},
     "output_type": "display_data"
    }
   ],
   "source": [
    "plt.style.use(\"ggplot\")\n",
    "# Pull out slope/intercept\n",
    "[[slope]] = sess.run(A)\n",
    "[[intercept]] = sess.run(b)\n",
    "\n",
    "# Create fitted line\n",
    "x = np.linspace(0, 3, num=50)\n",
    "\"\"\"\n",
    "ablineValues = []\n",
    "for i in x:\n",
    "    ablineValues.append(slope * i + intercept)\n",
    "\"\"\"\n",
    "ablineValues = slope * x + intercept\n",
    "\n",
    "# Plot the fitted line over the data\n",
    "\"\"\"\n",
    "setosa_x = [a[1] for i, a in enumerate(iris_2d) if binary_target[i] == 1]\n",
    "setosa_y = [a[0] for i, a in enumerate(iris_2d) if binary_target[i] == 1]\n",
    "non_setosa_x = [a[1] for i, a in enumerate(iris_2d) if binary_target[i] == 0]\n",
    "non_setosa_y = [a[0] for i, a in enumerate(iris_2d) if binary_target[i] == 0]\n",
    "\"\"\"\n",
    "\n",
    "setosa_x = iris_2d[binary_target == 1, 1]\n",
    "setosa_y = iris_2d[binary_target == 1, 0]\n",
    "non_setosa_x = iris_2d[binary_target != 1, 1]\n",
    "non_setosa_y = iris_2d[binary_target != 1, 0]\n",
    "\n",
    "plt.plot(\n",
    "    setosa_x, setosa_y, 'rx', ms=10, mew=2,\n",
    "    label='setosa')  # mew means markeredgewidth\n",
    "plt.plot(non_setosa_x, non_setosa_y, 'ro', label='Non-setosa')\n",
    "plt.plot(x, ablineValues, 'b-')\n",
    "plt.xlim([0.0, 2.7])\n",
    "plt.ylim([0.0, 7.1])\n",
    "plt.suptitle('Linear Separator For I.setosa', fontsize=20)\n",
    "plt.xlabel('Petal Length')\n",
    "plt.ylabel('Petal Width')\n",
    "plt.legend(loc='lower right')\n",
    "plt.show()"
   ]
  },
  {
   "cell_type": "code",
   "execution_count": null,
   "metadata": {},
   "outputs": [],
   "source": []
  }
 ],
 "metadata": {
  "kernelspec": {
   "display_name": "Python 3",
   "language": "python",
   "name": "python3"
  },
  "language_info": {
   "codemirror_mode": {
    "name": "ipython",
    "version": 3
   },
   "file_extension": ".py",
   "mimetype": "text/x-python",
   "name": "python",
   "nbconvert_exporter": "python",
   "pygments_lexer": "ipython3",
   "version": "3.6.4"
  },
  "latex_envs": {
   "LaTeX_envs_menu_present": true,
   "autoclose": false,
   "autocomplete": true,
   "bibliofile": "biblio.bib",
   "cite_by": "apalike",
   "current_citInitial": 1,
   "eqLabelWithNumbers": true,
   "eqNumInitial": 1,
   "hotkeys": {
    "equation": "Ctrl-E",
    "itemize": "Ctrl-I"
   },
   "labels_anchors": false,
   "latex_user_defs": false,
   "report_style_numbering": false,
   "user_envs_cfg": false
  },
  "toc": {
   "nav_menu": {},
   "number_sections": true,
   "sideBar": true,
   "skip_h1_title": false,
   "title_cell": "Table of Contents",
   "title_sidebar": "Contents",
   "toc_cell": false,
   "toc_position": {},
   "toc_section_display": true,
   "toc_window_display": false
  }
 },
 "nbformat": 4,
 "nbformat_minor": 2
}
